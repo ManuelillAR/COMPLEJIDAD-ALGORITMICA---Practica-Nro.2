{
  "nbformat": 4,
  "nbformat_minor": 0,
  "metadata": {
    "colab": {
      "name": "Manuel Armijos - Complejidad Algorítmica - Eficiencia de Algoritmos",
      "provenance": [],
      "collapsed_sections": [],
      "include_colab_link": true
    },
    "kernelspec": {
      "name": "python3",
      "display_name": "Python 3"
    },
    "language_info": {
      "name": "python"
    }
  },
  "cells": [
    {
      "cell_type": "markdown",
      "metadata": {
        "id": "view-in-github",
        "colab_type": "text"
      },
      "source": [
        "<a href=\"https://colab.research.google.com/github/ManuelillAR/COMPLEJIDAD-ALGORITMICA---Practica-Nro.2/blob/main/Manuel_Armijos_Complejidad_Algor%C3%ADtmica_Eficiencia_de_Algoritmos.ipynb\" target=\"_parent\"><img src=\"https://colab.research.google.com/assets/colab-badge.svg\" alt=\"Open In Colab\"/></a>"
      ]
    },
    {
      "cell_type": "markdown",
      "source": [
        "# **Complejidad Computacional**\n",
        "Unidad: Compeljidad Algorírtmica\n",
        "\n",
        "Nombre del Estudiante: Manuel Armijos"
      ],
      "metadata": {
        "id": "tfHxjRMoHHHx"
      }
    },
    {
      "cell_type": "markdown",
      "source": [
        "Complejidad de un Algoritmo"
      ],
      "metadata": {
        "id": "7VaUOSDOJbGZ"
      }
    },
    {
      "cell_type": "markdown",
      "source": [
        "A la hora de implementar un algoritmo es importante tener en cuenta la eficiencia de ese algoritmo, esto quiere decir, los recursos informáticos que va a anecesitar ese algoritmo para poderse ejecutarse. Por lo tanto se va a necesitar un método para evaluar la eficiencia de un algoritmo independientemente de:\n",
        "\n",
        "\n",
        "\n",
        "1.   El ordenador donde se ejecute\n",
        "2.   El lenguaje de programació en el que esté implementado\n",
        "\n",
        "1.   El sistema operativo\n",
        "2.   Otros factores externos al propio algoritmo\n",
        "\n",
        "PROBLEMA:\n",
        "\n",
        "Definir dos funciones para calular la suma de de 1 a n numeros.\n",
        "Una de ellas sumando uno a uno cada numero , y otra aplicando la suma aritmética de Gauss\n",
        "\n",
        "Formula de gauss:\n",
        "\n",
        "Suma de n numeros = (n / 2) * (n + 1)\n",
        "\n",
        "\n",
        "\n",
        "\n"
      ],
      "metadata": {
        "id": "jy6piZcuJx28"
      }
    },
    {
      "cell_type": "markdown",
      "source": [
        "Suma Lineal y Suma constante"
      ],
      "metadata": {
        "id": "au_pwvepj57y"
      }
    },
    {
      "cell_type": "code",
      "source": [
        "import time\n",
        "\n",
        "def sumaLineal(n):\n",
        "    suma = 0  #<-- Variable para guardar el resulataod de a suma\"\"\"\n",
        "    for i in range(1, n + 1): #<-- Itera desde 1 a n\n",
        "        suma += i\n",
        "        #print(suma)\n",
        "    return suma\n",
        "   \n",
        "def sumaConstante(n):\n",
        "    return (n / 2) * (n + 1)\n",
        "\n",
        "cantidad = 1\n",
        "\n",
        "for i in range (4):\n",
        "    print(\"Iteración \",i + 1)\n",
        "    t1 = time.time()\n",
        "    suma1 = sumaLineal(cantidad) \n",
        "\n",
        "    t2 = time.time()\n",
        "    suma2 = sumaConstante(cantidad)\n",
        "\n",
        "    t3 = time.time()\n",
        "\n",
        "    print(\"{}  -  {}\".format(suma1, t2-t1))\n",
        "    print(\"{}  -  {}\".format(suma2, t3-t2))\n",
        "    cantidad *= 10\n",
        "    #print(cantidad) #numero de veces que se sumaa"
      ],
      "metadata": {
        "id": "0NqLrBUnj_hy"
      },
      "execution_count": null,
      "outputs": []
    },
    {
      "cell_type": "markdown",
      "source": [
        "O Grande\n",
        "\n",
        "Orden de complejidad:\n",
        "\n",
        "\n",
        "\n",
        "\n",
        "\n",
        "1.   O(1)  -    Constante\n",
        "2.   O(n) - lineal\n",
        "\n",
        "1.   O(n^2) - cuadrático\n",
        "2.   O(n^a) - polinomial\n",
        "\n",
        "1.   O(log n) - Logarítmico\n",
        "2.   O(2^n) - exponencial\n",
        "\n",
        "\n",
        "\n",
        "\n",
        "\n",
        "\n",
        "\n",
        "\n",
        "\n",
        "\n",
        "\n",
        "\n",
        "\n"
      ],
      "metadata": {
        "id": "JQVu0Cz_85SH"
      }
    },
    {
      "cell_type": "markdown",
      "source": [
        "Búsqueda lineal"
      ],
      "metadata": {
        "id": "E4pBvx2A_JpJ"
      }
    },
    {
      "cell_type": "code",
      "source": [
        "listaDatos = [14,26, 39, 25, 11, 18, 42, 31, 17, 23]\n",
        "datoBuscado = 31\n",
        "def busquedaLineal(lista, buscar):\n",
        "    for elemento in lista:\n",
        "        if elemento == buscar:\n",
        "            return True\n",
        "    return False\n",
        "\n",
        "if busquedaLineal(listaDatos, datoBuscado):\n",
        "    print (\"Dato encontrado\")\n",
        "else:\n",
        "    print (\"Dato no encontrado\")\n"
      ],
      "metadata": {
        "id": "4zNgisZs_IIk"
      },
      "execution_count": null,
      "outputs": []
    },
    {
      "cell_type": "markdown",
      "source": [
        "Complejidad Cuadrática\n",
        "\n",
        "Problema:\n",
        "\n",
        "Dada una lista de numeros compruebe si la suma de dos numeros de una lista tien un resultado dado"
      ],
      "metadata": {
        "id": "cEjiI0E2F76G"
      }
    },
    {
      "cell_type": "code",
      "source": [
        "cantidades = [12, 23, 41, 36, 28, 54, 35, 46, 52, 19, 27]\n",
        "numero = 74\n",
        "def suma_dos(lista, valor):\n",
        "    pares = []\n",
        "    for i in lista:\n",
        "        for j in lista:\n",
        "            pares.append([i,j])\n",
        "    return pares\n",
        "print (suma_dos(cantidades, numero))"
      ],
      "metadata": {
        "id": "VhB5eDanGHp8"
      },
      "execution_count": null,
      "outputs": []
    },
    {
      "cell_type": "markdown",
      "source": [
        "Complejidad polinomial\n",
        "\n",
        "Comprueba si la suma de tres numeros de una lista ien un resultdo dado"
      ],
      "metadata": {
        "id": "yA0HAvK9LAYE"
      }
    },
    {
      "cell_type": "code",
      "source": [
        "cantidades = [12, 23, 41, 36, 28, 54, 35, 46, 52, 19, 27]\n",
        "numero = 74\n",
        "def suma_tres(lista, valor):\n",
        "    trios = []\n",
        "    for i in lista:\n",
        "        for j in lista:\n",
        "            for k in lista:\n",
        "                if i + j == valor \n",
        "                    trios.append([i,j,k])\n",
        "    return trios\n",
        "print (suma_tres(cantidades, numero))"
      ],
      "metadata": {
        "id": "qLpbOEhGJUEw"
      },
      "execution_count": null,
      "outputs": []
    },
    {
      "cell_type": "markdown",
      "source": [
        "Una empresa de autopistas tiene instalada una cámara que cuent el número de vehículos que pasa por una autopista, y tiene instalada unas gomas que cuentan el número de ruedas de los vehículos que pasan por la autopista.\n",
        "\n",
        "La empresa queire contratar a un prgramador para que elabore un algoritmo a partir del numero e vahículos y el número de ruedas, extraiga la cantidad de cohces y motos que pasan por la autopista\n",
        "\n",
        "Formula:\n",
        "\n",
        "Vehículos = coches + motos\n",
        "\n",
        "Reudas = coches * 4  +  motos * 2"
      ],
      "metadata": {
        "id": "ohEqMfWdLjcW"
      }
    },
    {
      "cell_type": "markdown",
      "source": [
        "Solución forma O(n**2)"
      ],
      "metadata": {
        "id": "dPe_8lzgXCvM"
      }
    },
    {
      "cell_type": "code",
      "source": [
        "def extraccion_1(vehiculos, reudas):\n",
        "    for coches in range(vehiculos + 1):\n",
        "        for motos in renge (vehiculos+ 1):\n",
        "            if ((coches+motos)==vehiculos) and ((coches*4 + motos*2)== ruedas):\n",
        "                return coches, motos\n",
        "        return None"
      ],
      "metadata": {
        "id": "KwkE-K_MNAoy"
      },
      "execution_count": null,
      "outputs": []
    },
    {
      "cell_type": "markdown",
      "source": [
        "  Solución mas eficiente complejidad lineal O(n)"
      ],
      "metadata": {
        "id": "mpEoOxMlXPeB"
      }
    },
    {
      "cell_type": "code",
      "source": [
        "def extraccion_1(vehiculos, reudas):\n",
        "    for coches in range(vehiculos + 1):\n",
        "        motos = vehiculos - coches\n",
        "        if coches * 4 + motos * 2 == ruedas:\n",
        "          return coches, motos\n",
        "    return None"
      ],
      "metadata": {
        "id": "cEg-0tOXXXRc"
      },
      "execution_count": null,
      "outputs": []
    },
    {
      "cell_type": "markdown",
      "source": [
        "Otra solución aun mas eficiente complejidad constante O(1)\n",
        "\n",
        "Fórmula:\n",
        "\n",
        "Motos = vehiculos - coche\n",
        "\n",
        "Ruedas = coches * 4 + (vehiculos - coches) * 2\n",
        "\n",
        "coches * 2 + vehiculos - coche = ruedas /2\n",
        "\n",
        "coches = ruedas / 2 - vehiculos"
      ],
      "metadata": {
        "id": "SJqSfL6yYTYa"
      }
    },
    {
      "cell_type": "code",
      "source": [
        "def extraccion_1(vehiculos, reudas):\n",
        "    coches = ruedas / 2 - vehiculos\n",
        "    motos = vehiculos - coches\n",
        "    if int(coches) + int (motos) == vehiculos:\n",
        "        return int(coches), int(motos)\n",
        "    else:\n",
        "      return None"
      ],
      "metadata": {
        "id": "d5Mj35IYYcWQ"
      },
      "execution_count": null,
      "outputs": []
    },
    {
      "cell_type": "markdown",
      "source": [
        "ALGORÍTMOS DE BÚSQUEDA\n",
        "\n",
        "- Búsqueda lineal\n",
        "  \n",
        "  complejidad: O(n)\n",
        "\n",
        "- Búsqueda Binaria\n",
        "\n",
        "  complejidad: O(log n)"
      ],
      "metadata": {
        "id": "d6EBfJ2VbVnT"
      }
    },
    {
      "cell_type": "markdown",
      "source": [
        "Búsqueda Binaria:\n",
        "\n",
        "Para que este algoritmo funcione se necesita una lista ordenada de datos, de lo contrario no se puede usar este algoritmo"
      ],
      "metadata": {
        "id": "7DGhq1PZcwua"
      }
    },
    {
      "cell_type": "code",
      "source": [
        "datos = [2, 3, 5, 6, 8, 11, 12, 15, 17, 10, 21, 23, 24, 29, 30]\n",
        "buscado = 23\n",
        "def busqueda_binaria(lista, elemento):\n",
        "\n",
        "    inicio = 0\n",
        "    final = len(lista) -1\n",
        "    while inicio <= final:\n",
        "        medio = (inicio + final) // 2\n",
        "        if lista[medio] == elemento:\n",
        "            return True\n",
        "        elif lista[medio] < elemento:\n",
        "            inicio = medio + 1\n",
        "        elif lista[medio] > elemento:\n",
        "            final = medio - 1\n",
        "    return False\n",
        "\n",
        "print (busqueda_binaria(datos, buscado))"
      ],
      "metadata": {
        "id": "fmRpJwt4dRTn"
      },
      "execution_count": null,
      "outputs": []
    },
    {
      "cell_type": "markdown",
      "source": [
        "n datos de entrada entre\n",
        "\n",
        "2 al exponente x es igual a 1 \n",
        "\n",
        "Fórmula: n/2^x = 1\n",
        "\n",
        "Si se despeja la x para saber cual es el exponente e tiene que:\n",
        "\n",
        "x = log sub 2 ^(n) donde\n",
        "\n",
        "x es el logaritmo en base 2 de n, es decir, las veces que se dividen  a la mitad los datos de entrada n, para llegar a un único valor.\n"
      ],
      "metadata": {
        "id": "VnCGLjuznWCU"
      }
    },
    {
      "cell_type": "code",
      "source": [
        "datos = []\n",
        "for i in range(1000):\n",
        "    datos.append(i)\n",
        "def busqueda_binaria(lista, elemento):\n",
        "    pasos = 0\n",
        "    inicio = 0\n",
        "    final = len(lista) -1\n",
        "    while inicio <= final:\n",
        "        pasos += 1\n",
        "        medio = (inicio + final) // 2\n",
        "        if lista[medio] == elemento:\n",
        "            return True, pasos\n",
        "        elif lista[medio] < elemento:\n",
        "            inicio = medio + 1\n",
        "        elif lista[medio] > elemento:\n",
        "            final = medio - 1\n",
        "    return False, pasos\n",
        "\n",
        "print (busqueda_binaria(datos, 985))"
      ],
      "metadata": {
        "id": "9WieYD-spBXk"
      },
      "execution_count": null,
      "outputs": []
    },
    {
      "cell_type": "markdown",
      "source": [
        "REALIZANDO BÚSQUEDAS\n"
      ],
      "metadata": {
        "id": "dir8r1hLq1c-"
      }
    },
    {
      "cell_type": "code",
      "source": [
        "import random\n",
        "censo = []\n",
        "alfabeto = \"ABCDEFGHIJKLMNOPQRSTUVWXYZ\"\n",
        "numero = 0;\n",
        "print(\"Creando censo.......\")\n",
        "for i in range(500_000):\n",
        "    aumento = random.randint(1,2)\n",
        "    numero += aumento\n",
        "    letras = random.sample(alfabeto, 5)\n",
        "    nombre = \"\".join(letras)\n",
        "    edad = random.randint(10, 99)\n",
        "    impuestos = random.choice((True, True, True, False))\n",
        "    censo.append([numero, nombre, edad, impuestos])\n",
        "    if len(censo) % 100_000 == 0:\n",
        "        print (\"Creados\", len(censo), \"registros\")\n",
        "print(\"censo creado\")\n",
        "print(\"ultimo registro:\", censo[-1])\n",
        "\n",
        "def busqueda_numero(lista, elemento):\n",
        "    #Buscar registros por numero, Busqueda binaria'''\n",
        "    inicio = 0\n",
        "    final = len(lista)-1\n",
        "    while inicio <= final:\n",
        "          medio = (inicio + final) // 2\n",
        "          if lista[medio][0] == elemento:\n",
        "              return lista[medio]\n",
        "          elif lista [medio][0] < elemento:\n",
        "              inicio = medio + 1\n",
        "          elif lista[medio][0] > elemento:\n",
        "              final = medio -1\n",
        "    return None\n",
        "\n",
        "def busqueda_nombre(lista, elemento):\n",
        "    #Buscar registros por nombre, Busqueda lineal'''\n",
        "    encontrados = []\n",
        "    for registro in lista:\n",
        "        if registro [1] == elemento:\n",
        "            encontrados.append(registros)\n",
        "    if len(encontrados) == 0:\n",
        "        return None\n",
        "    else:\n",
        "        return encontrados\n",
        "\n",
        "def muestra_registro(registro):\n",
        "    if registro == None:\n",
        "        print(\"No existe registro cone se dato\")\n",
        "    else:\n",
        "        print(\"-------------------------\")\n",
        "        print(\"Numero:\", registro[0])\n",
        "        print(\"Nombre:\", registro[1])\n",
        "        print(\"Edad:\", registro[2])\n",
        "        print(\"Impuestos:\", registro[3])\n",
        "\n",
        "def menu():\n",
        "    print(\"------------------------------\")\n",
        "    print(\"------CENSO DE POBLACION------\")\n",
        "    print(\"------------------------------\")\n",
        "    print(\"1. Buscar por numero\")\n",
        "    print(\"2. Buscar por nombre\")\n",
        "    print(\"3. Salir\")\n",
        "    opcion = \"\"\n",
        "    while opcion not in (\"1\", \"2\", \"3\"):\n",
        "          opcion = input(\"--> \")\n",
        "    return opcion\n",
        "\n",
        "while True:\n",
        "    op = menu()\n",
        "    if op == \"1\":\n",
        "        try:\n",
        "            numero = int(input(\"Introduce nuemero: \"))\n",
        "        except ValueError:\n",
        "              print(\"Introduce uun numero entero\")\n",
        "        else:\n",
        "              registro = busqueda_numero(censo, numero)\n",
        "              muestra_registro(registro)\n",
        "    elif op == \"2\":\n",
        "        nombre = input(\"Introduce nombre: \").upper()\n",
        "        registros = busqueda_nombre(censo, nombre)\n",
        "        if registros == None:\n",
        "            print(\"No existe registros con ese dato\")\n",
        "        else:\n",
        "            for registro in registros:\n",
        "                muestra_registro(registro)\n",
        "    elif op == \"3\":\n",
        "        break"
      ],
      "metadata": {
        "id": "CE9fuevirJ7U"
      },
      "execution_count": null,
      "outputs": []
    }
  ]
}