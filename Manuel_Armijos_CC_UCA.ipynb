{
  "nbformat": 4,
  "nbformat_minor": 0,
  "metadata": {
    "colab": {
      "name": "Manuel Armijos - CC-UCA.ipynb",
      "provenance": [],
      "include_colab_link": true
    },
    "kernelspec": {
      "name": "python3",
      "display_name": "Python 3"
    },
    "language_info": {
      "name": "python"
    }
  },
  "cells": [
    {
      "cell_type": "markdown",
      "metadata": {
        "id": "view-in-github",
        "colab_type": "text"
      },
      "source": [
        "<a href=\"https://colab.research.google.com/github/ManuelillAR/COMPLEJIDAD-ALGORITMICA---Practica-Nro.2/blob/main/Manuel_Armijos_CC_UCA.ipynb\" target=\"_parent\"><img src=\"https://colab.research.google.com/assets/colab-badge.svg\" alt=\"Open In Colab\"/></a>"
      ]
    },
    {
      "cell_type": "markdown",
      "source": [
        "# **Complejidad Computacional**\n",
        "\n",
        "COMPLEJIDAD ALGORÍTMICA - Practica Nro.2\n",
        "\n",
        "Unidad: Complejidad Algorítmica\n",
        "\n",
        "Nombre del Estudiante: Manuel Armijos.\n",
        "\n",
        "\n",
        "\n",
        "\n"
      ],
      "metadata": {
        "id": "bg7Pr0xIGZuh"
      }
    },
    {
      "cell_type": "markdown",
      "source": [
        "**Introducción a la complejidad algorítmica.**\n",
        "\n",
        "La complejidad algorítmica nos permite comparar la eficiencia de 2 algoritmos, esto a su vez va a predecir el tiempo que va a tomar resolver un problema. No solamente podemos analizar la complejidad desde la perspectiva temporal, también la podemos hacer desde la espacial, como por ejemplo cuanto espacio en memoria necesitamos.\n",
        "\n",
        "La complejidad algorítmica temporal la podemos definir como T(n) el cual determinara el tiempo que demora en resolver nuestro algoritmo."
      ],
      "metadata": {
        "id": "2V6_xTeRHnVD"
      }
    },
    {
      "cell_type": "markdown",
      "source": [
        "**Aproximaciones.**\n",
        "\n",
        "¿Como podríamos aplicar nuestra función T(n)?\n",
        "\n",
        "Cronometrar el tiempo en el que corre un algoritmo. Sin embargo no es una buena forma de medir los algoritmos, ya que no se puede predecir cuanto demorara a medida que crece nuestros pasos.\n",
        "\n",
        "Contar los pasos con una medida abstracta de operación. Nos puede acercar a una medición ideal, sin embargo varia mucho de algoritmo en algoritmo y a medida que crece nuestro dataset existen muchos términos que llegan a ser irrelevantes.\n",
        "\n",
        "Contar los pasos conforme nos aproximamos al infinito pero con una medida asintótica."
      ],
      "metadata": {
        "id": "98yRYVVfl99Q"
      }
    },
    {
      "cell_type": "markdown",
      "source": [
        "**Medición temporal.**\n",
        "\n",
        "Para una realizar una medida temporal simplemente calculamos la diferencia del tiempo previo y posterior de la ejecución del algoritmo."
      ],
      "metadata": {
        "id": "CvbKeXOwmLlv"
      }
    },
    {
      "cell_type": "code",
      "source": [
        "import time\n",
        "\n",
        "def factorial(n):\n",
        "    respuesta = 1\n",
        "\n",
        "    while n > 1:\n",
        "        respuesta *= n\n",
        "        n -= 1\n",
        "\n",
        "    return respuesta\n",
        "\n",
        "\n",
        "def factorial_r(n):\n",
        "    if n == 1:\n",
        "        return 1\n",
        "\n",
        "    return n * factorial(n - 1)\n",
        "\n",
        "\n",
        "if __name__ == '__main__':\n",
        "    n = 200000\n",
        "\n",
        "    comienzo = time.time()\n",
        "    factorial(n)\n",
        "    final = time.time()\n",
        "    print(final - comienzo)\n",
        "\n",
        "    comienzo = time.time()\n",
        "    factorial_r(n)\n",
        "    final = time.time()\n",
        "    print(final - comienzo)"
      ],
      "metadata": {
        "id": "F1FGuL7THe1P"
      },
      "execution_count": null,
      "outputs": []
    },
    {
      "cell_type": "markdown",
      "source": [
        "**Conteo abstracto de operación.**\n",
        "Con esta técnica contamos los pasos que realiza nuestro algoritmo. En el siguiente ejemplo respuesta tendrá los números de pasos que realiza nuestro código al ejecutar."
      ],
      "metadata": {
        "id": "_j9isgw2HrMc"
      }
    },
    {
      "cell_type": "code",
      "source": [
        "def f(x):\n",
        "\n",
        "    respuesta = 0\n",
        "\n",
        "    for i in range(1000):\n",
        "        respuesta += 1\n",
        "\n",
        "    for i in range(x):\n",
        "        respuesta += x\n",
        "\n",
        "    for i in range(x):\n",
        "        for j in range(x):\n",
        "            respuesta += 1\n",
        "            respuesta += 1\n",
        "\n",
        "    return respuesta"
      ],
      "metadata": {
        "id": "7ezj3DJ3HtcR"
      },
      "execution_count": null,
      "outputs": []
    },
    {
      "cell_type": "markdown",
      "source": [
        "**Notación asintótica.**\n",
        "\n",
        "Cuando hablamos de **notación asintótica** no importan las variaciones pequeñas, el enfoque se centra en lo que pasa conforme el tamaño del problema se acerca al infinito.\n",
        "\n",
        "Siempre tenemos que estar preparados para cualquier caso, por lo que tenemos que saber medir a nuestro algoritmo en el mejor, promedio y peor de los casos.\n",
        "\n",
        "Lo mejor que nos permite comparar nuestros algoritmos y su capacidad es medir el peor de los casos, ahí es donde entra el **Big O notation**, donde lo único que importa es el termino de mayor tamaño, sin importar las constantes que las acompañan.\n",
        "\n",
        "\n"
      ],
      "metadata": {
        "id": "J4lMldv-JrDs"
      }
    },
    {
      "cell_type": "code",
      "source": [
        "# Ley de la suma\n",
        "\n",
        "def f(n):\n",
        "    for i in range(n):\n",
        "        print(i)\n",
        "\n",
        "    for i in range(n):\n",
        "        print(i)\n",
        "\n",
        "# En este caso el mayor término es n\n",
        "# O(n) + O(n) = O(n + n) = O(2n) = O(n)"
      ],
      "metadata": {
        "id": "653gHsDVJvMP"
      },
      "execution_count": null,
      "outputs": []
    },
    {
      "cell_type": "code",
      "source": [
        "\n",
        "# Ley de la suma\n",
        "\n",
        "def f(n):\n",
        "    for i in range(n):\n",
        "        print(i)\n",
        "\n",
        "    for i in range(n * n):\n",
        "        print(i)\n",
        "\n",
        "# En este caso el mayor término es n²\n",
        "# O(n) + O(n * n) = O(n + n²) = O(n²)"
      ],
      "metadata": {
        "id": "8dczON2kJ-5Q"
      },
      "execution_count": null,
      "outputs": []
    },
    {
      "cell_type": "code",
      "source": [
        "# Ley de la multiplicación\n",
        "\n",
        "def f(n):\n",
        "\n",
        "    for i in range(n):\n",
        "\n",
        "        for i in range(n):\n",
        "            print(i, j)\n",
        "\n",
        "# En este caso el mayor término es n²\n",
        "# O(n) + O(n * n) = O(n * n) = O(n²)"
      ],
      "metadata": {
        "id": "2nJ_eV7nncKh"
      },
      "execution_count": null,
      "outputs": []
    },
    {
      "cell_type": "markdown",
      "source": [
        "**Clases de complejidad algorítmica.**\n"
      ],
      "metadata": {
        "id": "JhvlASZGLzoi"
      }
    },
    {
      "cell_type": "markdown",
      "source": [
        "**Algoritmos de búsqueda y ordenación.**\n",
        "\n",
        "**Búsqueda lineal.**\n",
        "\n",
        "La búsqueda lineal es un algoritmo muy sencillo. Consta en buscar si un elemento se encuentra dentro de una lista, array o un sistema ordenado o no ordenado para poder determinar si el elemento se encuentra en el o forma parte de el."
      ],
      "metadata": {
        "id": "wAFanBeyvklY"
      }
    },
    {
      "cell_type": "code",
      "source": [
        "import random\n",
        "\n",
        "def busqueda_lineal(lista, objetivo):\n",
        "    match = False\n",
        "\n",
        "    for elemento in lista: # O(n)\n",
        "        if elemento == objetivo:\n",
        "            match = True\n",
        "            break\n",
        "\n",
        "    return match\n",
        "\n",
        "\n",
        "if __name__ == '__main__':\n",
        "    tamano_de_lista = int(input('De que tamano sera la lista? '))\n",
        "    objetivo = int(input('Que numero quieres encontrar? '))\n",
        "\n",
        "    lista = [random.randint(0, 100) for i in range(tamano_de_lista)]\n",
        "\n",
        "    encontrado = busqueda_lineal(lista, objetivo)\n",
        "    print(lista)\n",
        "    print(f'El elemento {objetivo} {\"esta\" if encontrado else \"no esta\"} en la lista')"
      ],
      "metadata": {
        "id": "B4F4oX-Jvjx5"
      },
      "execution_count": null,
      "outputs": []
    },
    {
      "cell_type": "markdown",
      "source": [
        "**Búsqueda binaria.**\n",
        "La búsqueda binaria toma una estrategia llamada \"Divide y conquista\", la cual consiste en dividir el problema en 2 en cada iteración. Este algoritmo asume que la lista se encuentra ordenada, por lo que es necesario realizar este paso primero.\n",
        "\n",
        "La búsqueda binaria es uno de los mejores algoritmos que se tienen hoy en día para búsqueda, ya que reduce significativamente el numero de pasos, y así disminuyendo nuestro Big O."
      ],
      "metadata": {
        "id": "enpaHII_vxqV"
      }
    },
    {
      "cell_type": "code",
      "source": [
        "import random\n",
        "\n",
        "def busqueda_binaria(lista, comienzo, final, objetivo):\n",
        "    print(f'buscando {objetivo} entre {lista[comienzo]} y {lista[final - 1]}')\n",
        "    if comienzo > final:\n",
        "        return False\n",
        "\n",
        "    medio = (comienzo + final) // 2\n",
        "\n",
        "    if lista[medio] == objetivo:\n",
        "        return True\n",
        "    elif lista[medio] < objetivo:\n",
        "        return busqueda_binaria(lista, medio + 1, final, objetivo)\n",
        "    else:\n",
        "        return busqueda_binaria(lista, comienzo, medio - 1, objetivo)\n",
        "\n",
        "\n",
        "if __name__ == '__main__':\n",
        "    tamano_de_lista = int(input('De que tamano es la lista? '))\n",
        "    objetivo = int(input('Que numero quieres encontrar? '))\n",
        "\n",
        "    lista = sorted([random.randint(0, 100) for i in range(tamano_de_lista)])\n",
        "\n",
        "    encontrado = busqueda_binaria(lista, 0, len(lista), objetivo)\n",
        "\n",
        "    print(lista)\n",
        "    print(f'El elemento {objetivo} {\"esta\" if encontrado else \"no esta\"} en la lista')"
      ],
      "metadata": {
        "id": "8OqhzUbTL2Ly"
      },
      "execution_count": null,
      "outputs": []
    },
    {
      "cell_type": "markdown",
      "source": [
        "**Ordenamiento Burbuja.**\n",
        "\n",
        "El primer algoritmo de ordenamiento que veremos es el ordenamiento de burbuja. Es un algoritmo que recorre repetidamente una lista que necesita ordenarse. Compara elementos adyacentes y los intercambia si están en el orden incorrecto. Este procedimiento se repite hasta que no se requiere mas intercambios, lo que indica que la lista se encuentra ordenada."
      ],
      "metadata": {
        "id": "7w5zPZzEv945"
      }
    },
    {
      "cell_type": "code",
      "source": [
        "import random\n",
        "\n",
        "\n",
        "def ordenamiento_de_burbuja(lista):\n",
        "    n = len(lista)\n",
        "\n",
        "    for i in range(n):\n",
        "        for j in range(0, n - i - 1): # O(n) * O(n) = O(n * n) = O(n**2)\n",
        "\n",
        "            if lista[j] > lista[j + 1]:\n",
        "                lista[j], lista[j + 1] = lista[j + 1], lista[j]\n",
        "\n",
        "    return lista\n",
        "\n",
        "if __name__ == '__main__':\n",
        "    tamano_de_lista = int(input('De que tamano sera la lista? '))\n",
        "\n",
        "    lista = [random.randint(0, 100) for i in range(tamano_de_lista)]\n",
        "    print(lista)\n",
        "\n",
        "    lista_ordenada = ordenamiento_de_burbuja(lista)\n",
        "    print(lista_ordenada)"
      ],
      "metadata": {
        "id": "Yh1H6EArv9m9"
      },
      "execution_count": null,
      "outputs": []
    },
    {
      "cell_type": "markdown",
      "source": [
        "**Ordenamiento por inserción.**\n",
        "\n",
        "El ordenamiento por inserción es uno de los algoritmos más comunes que estudian los Científicos del Cómputo. Es intuitivo y fácil de implementar, pero es muy ineficiente para listas de gran tamaño.\n",
        "\n",
        "Una de las características del ordenamiento por inserción es que ordena en “su lugar.” Es decir, no requiere memoria adicional para realizar el ordenamiento ya que simplemente modifican los valores en memoria.\n",
        "\n",
        "La definición es simple:\n",
        "\n",
        "Una lista es dividida entre una sublista ordenada y otra sublista desordenada. Al principio, la sublista ordenada contiene un solo elemento, por lo que por definición se encuentra ordenada.\n",
        "\n",
        "A continuación se evalua el primer elemento dentro la sublista desordenada para que podamos insertarlo en el lugar correcto dentro de la lista ordenada.\n",
        "\n",
        "La inserción se realiza al mover todos los elementos mayores al elemento que se está evauluando un lugar a la derecha.\n",
        "\n",
        "Continua el proceso hasta que la sublista desordenada quede vacia y, por lo tanto, la lista se encontrará ordenada."
      ],
      "metadata": {
        "id": "XQ6KtkJEwEaI"
      }
    },
    {
      "cell_type": "code",
      "source": [
        "def ordenamiento_por_insercion(lista):\n",
        "\n",
        "    for indice in range(1, len(lista)):\n",
        "        valor_actual = lista[indice]\n",
        "        posicion_actual = indice\n",
        "\n",
        "        while posicion_actual > 0 and lista[posicion_actual - 1] > valor_actual:\n",
        "            lista[posicion_actual] = lista[posicion_actual - 1]\n",
        "            posicion_actual -= 1\n",
        "\n",
        "        lista[posicion_actual] = valor_actual"
      ],
      "metadata": {
        "id": "N0eaXAX3rWdQ"
      },
      "execution_count": null,
      "outputs": []
    },
    {
      "cell_type": "markdown",
      "source": [
        "**Ordenamiento por mezcla.**\n",
        "\n",
        "El ordenamiento por mezcla creado por John von Neumann el cual aplica el concepto de \"divide y conquista\". Primero divide una lista en partes iguales hasta que quedan sublistas de 1 o 0 elementos. Luego las recombina en forma ordenada."
      ],
      "metadata": {
        "id": "5n1el_M3wXyJ"
      }
    },
    {
      "cell_type": "code",
      "source": [
        "import random\n",
        "\n",
        "def ordenamiento_por_mezcla(lista):\n",
        "    if len(lista) > 1:\n",
        "        medio = len(lista) // 2\n",
        "        izquierda = lista[:medio]\n",
        "        derecha = lista[medio:]\n",
        "        print(izquierda, '*' * 5, derecha)\n",
        "\n",
        "        # llamada recursiva en cada mitad\n",
        "        ordenamiento_por_mezcla(izquierda)\n",
        "        ordenamiento_por_mezcla(derecha)\n",
        "\n",
        "        # Iteradores para recorrer las dos sublistas\n",
        "        i = 0\n",
        "        j = 0\n",
        "        # Iterador para la lista principal\n",
        "        k = 0\n",
        "\n",
        "        while i < len(izquierda) and j < len(derecha):\n",
        "            if izquierda[i] < derecha[j]:\n",
        "                lista[k] = izquierda[i]\n",
        "                i += 1\n",
        "            else:\n",
        "                lista[k] = derecha[j]\n",
        "                j += 1\n",
        "\n",
        "            k += 1\n",
        "\n",
        "        while i < len(izquierda):\n",
        "            lista[k] = izquierda[i]\n",
        "            i += 1\n",
        "            k +=1\n",
        "\n",
        "        while j < len(derecha):\n",
        "            lista[k] = derecha[j]\n",
        "            j += 1\n",
        "            k += 1\n",
        "        \n",
        "        print(f'izquierda {izquierda}, derecha {derecha}')\n",
        "        print(lista)\n",
        "        print('-' * 50)\n",
        "\n",
        "    return lista\n",
        "\n",
        "\n",
        "if __name__ == '__main__':\n",
        "    tamano_de_lista = int(input('De que tamano sera la lista? '))\n",
        "\n",
        "    lista = [random.randint(0, 100) for i in range(tamano_de_lista)]\n",
        "    print(lista)\n",
        "    print('-' * 20)\n",
        "\n",
        "    lista_ordenada = ordenamiento_por_mezcla(lista)\n",
        "    print(lista_ordenada)"
      ],
      "metadata": {
        "id": "DYAjveDNwXhk"
      },
      "execution_count": null,
      "outputs": []
    }
  ]
}